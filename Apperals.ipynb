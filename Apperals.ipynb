{
  "nbformat": 4,
  "nbformat_minor": 0,
  "metadata": {
    "colab": {
      "name": "Untitled5.ipynb",
      "provenance": []
    },
    "kernelspec": {
      "name": "python3",
      "display_name": "Python 3"
    },
    "accelerator": "GPU"
  },
  "cells": [
    {
      "cell_type": "code",
      "metadata": {
        "id": "UMJwhARuJS32",
        "colab_type": "code",
        "colab": {
          "base_uri": "https://localhost:8080/",
          "height": 34
        },
        "outputId": "5f95e34f-55f0-4a96-ffca-2a24df90bf05"
      },
      "source": [
        "#Raghav_Saxena\n",
        "\n",
        "import tensorflow as tf\n",
        "from tensorflow import keras\n",
        "from keras import datasets as dt\n",
        "from keras.models import Sequential\n",
        "from keras.layers import Dense,Flatten"
      ],
      "execution_count": 2,
      "outputs": [
        {
          "output_type": "stream",
          "text": [
            "Using TensorFlow backend.\n"
          ],
          "name": "stderr"
        }
      ]
    },
    {
      "cell_type": "code",
      "metadata": {
        "id": "A-3CrtP5J3pY",
        "colab_type": "code",
        "colab": {}
      },
      "source": [
        "mnist_fas=dt.fashion_mnist"
      ],
      "execution_count": 0,
      "outputs": []
    },
    {
      "cell_type": "code",
      "metadata": {
        "id": "yJHbfyk1KCPE",
        "colab_type": "code",
        "colab": {
          "base_uri": "https://localhost:8080/",
          "height": 34
        },
        "outputId": "a1f3ad10-e4d6-47e0-f26b-2f46939ab5fd"
      },
      "source": [
        "print(mnist_fas)"
      ],
      "execution_count": 6,
      "outputs": [
        {
          "output_type": "stream",
          "text": [
            "<module 'keras.datasets.fashion_mnist' from '/usr/local/lib/python3.6/dist-packages/keras/datasets/fashion_mnist.py'>\n"
          ],
          "name": "stdout"
        }
      ]
    },
    {
      "cell_type": "code",
      "metadata": {
        "id": "DRkjS1kQKOF-",
        "colab_type": "code",
        "colab": {
          "base_uri": "https://localhost:8080/",
          "height": 153
        },
        "outputId": "971cf202-b078-44db-95fb-504790bbe9f4"
      },
      "source": [
        "(x_train,y_train),(x_test,y_test)=mnist_fas.load_data()"
      ],
      "execution_count": 7,
      "outputs": [
        {
          "output_type": "stream",
          "text": [
            "Downloading data from http://fashion-mnist.s3-website.eu-central-1.amazonaws.com/train-labels-idx1-ubyte.gz\n",
            "32768/29515 [=================================] - 0s 9us/step\n",
            "Downloading data from http://fashion-mnist.s3-website.eu-central-1.amazonaws.com/train-images-idx3-ubyte.gz\n",
            "26427392/26421880 [==============================] - 5s 0us/step\n",
            "Downloading data from http://fashion-mnist.s3-website.eu-central-1.amazonaws.com/t10k-labels-idx1-ubyte.gz\n",
            "8192/5148 [===============================================] - 0s 0us/step\n",
            "Downloading data from http://fashion-mnist.s3-website.eu-central-1.amazonaws.com/t10k-images-idx3-ubyte.gz\n",
            "4423680/4422102 [==============================] - 2s 1us/step\n"
          ],
          "name": "stdout"
        }
      ]
    },
    {
      "cell_type": "code",
      "metadata": {
        "id": "QbUPoZBaKd7P",
        "colab_type": "code",
        "colab": {}
      },
      "source": [
        "import matplotlib.pyplot as plt"
      ],
      "execution_count": 0,
      "outputs": []
    },
    {
      "cell_type": "code",
      "metadata": {
        "id": "aESd_Mm_Kq5R",
        "colab_type": "code",
        "colab": {
          "base_uri": "https://localhost:8080/",
          "height": 282
        },
        "outputId": "266cf3cc-0157-4db8-ed2e-f942560ee9e2"
      },
      "source": [
        "plt.imshow(x_train[0])"
      ],
      "execution_count": 11,
      "outputs": [
        {
          "output_type": "stream",
          "text": [
            "9\n"
          ],
          "name": "stdout"
        },
        {
          "output_type": "display_data",
          "data": {
            "image/png": "[encoded data removed]",
            "text/plain": [
              "<Figure size 432x288 with 1 Axes>"
            ]
          },
          "metadata": {
            "tags": [],
            "needs_background": "light"
          }
        }
      ]
    },
    {
      "cell_type": "code",
      "metadata": {
        "id": "-uKkcjE8K7jH",
        "colab_type": "code",
        "colab": {
          "base_uri": "https://localhost:8080/",
          "height": 34
        },
        "outputId": "8ea1fd48-4ab2-4b30-c9b5-2592c7b4ab65"
      },
      "source": [
        "print(y_train[0])"
      ],
      "execution_count": 12,
      "outputs": [
        {
          "output_type": "stream",
          "text": [
            "9\n"
          ],
          "name": "stdout"
        }
      ]
    },
    {
      "cell_type": "code",
      "metadata": {
        "id": "MTiQC96qK_M3",
        "colab_type": "code",
        "colab": {}
      },
      "source": [
        "x_train=x_train/255.0\n",
        "x_test=x_test/255.0"
      ],
      "execution_count": 0,
      "outputs": []
    },
    {
      "cell_type": "code",
      "metadata": {
        "id": "cUkjwyRPLH7G",
        "colab_type": "code",
        "colab": {}
      },
      "source": [
        "model=Sequential()\n",
        "model.add(Flatten())\n",
        "model.add(Dense(128,activation='relu'))\n",
        "model.add(Dense(10,activation='softmax'))"
      ],
      "execution_count": 0,
      "outputs": []
    },
    {
      "cell_type": "code",
      "metadata": {
        "id": "jYk69jwJLvR4",
        "colab_type": "code",
        "colab": {}
      },
      "source": [
        "model.compile(optimizer='adam',loss='sparse_categorical_crossentropy',metrics=['accuracy'])"
      ],
      "execution_count": 0,
      "outputs": []
    },
    {
      "cell_type": "code",
      "metadata": {
        "id": "rZl--NX1MFmR",
        "colab_type": "code",
        "colab": {
          "base_uri": "https://localhost:8080/",
          "height": 714
        },
        "outputId": "f24989ce-6880-47f4-cf4a-0d33d70434ae"
      },
      "source": [
        "model.fit(x_train,y_train,epochs=20)"
      ],
      "execution_count": 16,
      "outputs": [
        {
          "output_type": "stream",
          "text": [
            "Epoch 1/20\n",
            "60000/60000 [==============================] - 6s 100us/step - loss: 0.5048 - accuracy: 0.8245\n",
            "Epoch 2/20\n",
            "60000/60000 [==============================] - 4s 71us/step - loss: 0.3757 - accuracy: 0.8638\n",
            "Epoch 3/20\n",
            "60000/60000 [==============================] - 4s 72us/step - loss: 0.3371 - accuracy: 0.8769\n",
            "Epoch 4/20\n",
            "60000/60000 [==============================] - 4s 72us/step - loss: 0.3156 - accuracy: 0.8840\n",
            "Epoch 5/20\n",
            "60000/60000 [==============================] - 4s 71us/step - loss: 0.2957 - accuracy: 0.8909\n",
            "Epoch 6/20\n",
            "60000/60000 [==============================] - 4s 71us/step - loss: 0.2831 - accuracy: 0.8960\n",
            "Epoch 7/20\n",
            "60000/60000 [==============================] - 4s 72us/step - loss: 0.2705 - accuracy: 0.9003\n",
            "Epoch 8/20\n",
            "60000/60000 [==============================] - 4s 72us/step - loss: 0.2584 - accuracy: 0.9040\n",
            "Epoch 9/20\n",
            "60000/60000 [==============================] - 4s 71us/step - loss: 0.2511 - accuracy: 0.9067\n",
            "Epoch 10/20\n",
            "60000/60000 [==============================] - 4s 72us/step - loss: 0.2423 - accuracy: 0.9096\n",
            "Epoch 11/20\n",
            "60000/60000 [==============================] - 4s 72us/step - loss: 0.2339 - accuracy: 0.9123\n",
            "Epoch 12/20\n",
            "60000/60000 [==============================] - 4s 72us/step - loss: 0.2262 - accuracy: 0.9153\n",
            "Epoch 13/20\n",
            "60000/60000 [==============================] - 4s 73us/step - loss: 0.2193 - accuracy: 0.9183\n",
            "Epoch 14/20\n",
            "60000/60000 [==============================] - 4s 73us/step - loss: 0.2129 - accuracy: 0.9200\n",
            "Epoch 15/20\n",
            "60000/60000 [==============================] - 4s 72us/step - loss: 0.2078 - accuracy: 0.9221\n",
            "Epoch 16/20\n",
            "60000/60000 [==============================] - 4s 71us/step - loss: 0.2021 - accuracy: 0.9241\n",
            "Epoch 17/20\n",
            "60000/60000 [==============================] - 4s 70us/step - loss: 0.1959 - accuracy: 0.9268\n",
            "Epoch 18/20\n",
            "60000/60000 [==============================] - 4s 73us/step - loss: 0.1913 - accuracy: 0.9291\n",
            "Epoch 19/20\n",
            "60000/60000 [==============================] - 4s 71us/step - loss: 0.1864 - accuracy: 0.9307\n",
            "Epoch 20/20\n",
            "60000/60000 [==============================] - 4s 70us/step - loss: 0.1833 - accuracy: 0.9313\n"
          ],
          "name": "stdout"
        },
        {
          "output_type": "execute_result",
          "data": {
            "text/plain": [
              "<keras.callbacks.callbacks.History at 0x7fbbf078b400>"
            ]
          },
          "metadata": {
            "tags": []
          },
          "execution_count": 16
        }
      ]
    },
    {
      "cell_type": "code",
      "metadata": {
        "id": "cp-rL-6kMjh_",
        "colab_type": "code",
        "colab": {
          "base_uri": "https://localhost:8080/",
          "height": 51
        },
        "outputId": "d3d01a1c-dbd0-4bc7-ce7c-e61179bc47d2"
      },
      "source": [
        "model.evaluate(x_test,y_test)"
      ],
      "execution_count": 17,
      "outputs": [
        {
          "output_type": "stream",
          "text": [
            "10000/10000 [==============================] - 0s 45us/step\n"
          ],
          "name": "stdout"
        },
        {
          "output_type": "execute_result",
          "data": {
            "text/plain": [
              "[0.34785643901824953, 0.8865000009536743]"
            ]
          },
          "metadata": {
            "tags": []
          },
          "execution_count": 17
        }
      ]
    },
    {
      "cell_type": "code",
      "metadata": {
        "id": "DDbZlitWMvoQ",
        "colab_type": "code",
        "colab": {}
      },
      "source": [
        "classifier=model.predict(x_test)"
      ],
      "execution_count": 0,
      "outputs": []
    },
    {
      "cell_type": "code",
      "metadata": {
        "id": "Wb5C-d3-M2Mm",
        "colab_type": "code",
        "colab": {
          "base_uri": "https://localhost:8080/",
          "height": 238
        },
        "outputId": "ad7b5fd6-b864-4938-bf86-e1c8b79428f3"
      },
      "source": [
        "classifier"
      ],
      "execution_count": 19,
      "outputs": [
        {
          "output_type": "execute_result",
          "data": {
            "text/plain": [
              "array([[1.68076560e-11, 9.01053798e-12, 1.84333343e-13, ...,\n",
              "        2.50944914e-03, 2.20577831e-12, 9.97415423e-01],\n",
              "       [2.05361895e-04, 3.68879725e-16, 9.99537826e-01, ...,\n",
              "        1.57573900e-19, 2.02916286e-12, 1.02015175e-20],\n",
              "       [3.10059134e-13, 1.00000000e+00, 6.80159190e-14, ...,\n",
              "        1.97053232e-28, 4.79391283e-18, 2.42826178e-24],\n",
              "       ...,\n",
              "       [1.97591567e-06, 7.62856253e-15, 1.93093139e-10, ...,\n",
              "        1.32768698e-12, 9.99997139e-01, 1.78110029e-19],\n",
              "       [4.65647106e-13, 9.99999285e-01, 1.21087428e-11, ...,\n",
              "        5.36925128e-18, 2.12951849e-13, 6.04363500e-17],\n",
              "       [2.95351037e-06, 2.15630096e-12, 9.65620075e-07, ...,\n",
              "        4.36207163e-04, 6.36213663e-05, 1.52363668e-07]], dtype=float32)"
            ]
          },
          "metadata": {
            "tags": []
          },
          "execution_count": 19
        }
      ]
    }
  ]
}